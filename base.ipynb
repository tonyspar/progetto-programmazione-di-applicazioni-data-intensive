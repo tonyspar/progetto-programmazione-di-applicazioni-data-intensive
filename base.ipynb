{
  "cells": [
    {
      "cell_type": "markdown",
      "source": [
        "Piattaforma\n",
        "Metacritic\n",
        "\n",
        "## 1. Descrizione del problema e analisi esplorativa\n",
        "### Caricamento Librerie\n",
        "Per prima cosa carichiamo le librerie per effettuare operazioni sui dati\n",
        "\n",
        "    NumPy per creare e operare su array a N dimensioni\n",
        "    pandas per caricare e manipolare dati tabulari\n",
        "    matplotlib per creare grafici\n",
        "\n",
        "Importiamo le librerie usando i loro alias convenzionali e abilitando l'inserimento dei grafici direttamente nel notebook\n",
        "\n",
        "```python\n",
        "import numpy as np\n",
        "import pandas as pd\n",
        "import matplotlib.pyplot as plt\n",
        "import surprise\n",
        "surprise.__version__\n",
        "%matplotlib inline\n",
        "```\n",
        "\n",
        "### Caricamento dei dati\n",
        "```python\n",
        "import os.path\n",
        "from urllib.request import urlretrieve\n",
        "file = \"nome.csv\"\n",
        "url = \"url\"\n",
        "if not os.path.exists(file):\n",
        "    urlretrieve(url, file)\n",
        "data = pd.read_csv(file, index_col=0)\n",
        "data.info()\n",
        "```\n",
        "\n",
        "### Descrizione problema\n",
        "Il dataset in esame, contiene informazioni utili ...\n",
        "\n",
        "### Esplorazione dei dati\n",
        "```python\n",
        "# Esempio di esplorazione dati\n",
        "data.head()\n",
        "data.describe()\n",
        "```\n",
        "\n",
        "```python\n",
        "# Visualizzazione distribuzione\n",
        "data.hist(figsize=(10,8))\n",
        "plt.show()\n",
        "```\n",
        "\n",
        "---\n",
        "\n",
        "## 2. Feature preprocessing\n",
        "Esempio di preprocessing:\n",
        "```python\n",
        "# Gestione valori mancanti\n",
        "data = data.fillna(0)\n",
        "# Encoding variabili categoriche\n",
        "data = pd.get_dummies(data)\n",
        "```\n",
        "\n",
        "---\n",
        "\n",
        "## 3. Modellazione\n",
        "Esempio di modellazione:\n",
        "```python\n",
        "from sklearn.model_selection import train_test_split\n",
        "from sklearn.ensemble import RandomForestClassifier\n",
        "\n",
        "X = data.drop('target', axis=1)\n",
        "y = data['target']\n",
        "X_train, X_test, y_train, y_test = train_test_split(X, y, test_size=0.2, random_state=42)\n",
        "\n",
        "model = RandomForestClassifier()\n",
        "model.fit(X_train, y_train)\n",
        "```\n",
        "\n",
        "---\n",
        "\n",
        "## 4. Valutazione dei modelli di classificazione\n",
        "Esempio di valutazione:\n",
        "```python\n",
        "from sklearn.metrics import classification_report, accuracy_score\n",
        "\n",
        "y_pred = model.predict(X_test)\n",
        "print(classification_report(y_test, y_pred))\n",
        "print('Accuracy:', accuracy_score(y_test, y_pred))\n",
        "```\n",
        "\n",
        "---\n",
        "\n",
        "## 5. Analisi del modello migliore\n",
        "Esempio di analisi:\n",
        "```python\n",
        "# Analisi delle feature più importanti\n",
        "importances = model.feature_importances_\n",
        "features = X.columns\n",
        "for feat, imp in sorted(zip(features, importances), key=lambda x: x[1], reverse=True):\n",
        "    print(f\"{feat}: {imp:.3f}\")\n",
        "```\n",
        "\n"
      ],
      "metadata": {
        "id": "-PhrtFha_B6R"
      }
    },
    {
      "cell_type": "markdown",
      "source": [
        "## 1. Descrizione del problema e analisi esplorativa\n",
        "### Caricamento Librerie\n",
        "Per prima cosa carichiamo le librerie per effettuare operazioni sui dati\n"
      ],
      "metadata": {
        "id": "bYeWjik34lqY"
      }
    },
    {
      "cell_type": "markdown",
      "source": [
        "NumPy per creare e operare su array a N dimensioni\n",
        "    pandas per caricare e manipolare dati tabulari\n",
        "    matplotlib per creare grafici\n",
        "\n",
        "Importiamo le librerie usando i loro alias convenzionali e abilitando l'inserimento dei grafici direttamente nel notebook\n"
      ],
      "metadata": {
        "id": "xxV0RWiH4wV4"
      }
    },
    {
      "cell_type": "code",
      "source": [
        "%pip install scikit-surprise\n",
        "%pip uninstall numpy -y\n",
        "%pip install 'numpy<2'\n",
        "! pip install -q kaggle"
      ],
      "metadata": {
        "id": "-w26pPjWCvl2"
      },
      "execution_count": null,
      "outputs": []
    },
    {
      "cell_type": "code",
      "source": [
        "import numpy as np\n",
        "import pandas as pd\n",
        "import matplotlib.pyplot as plt\n",
        "import surprise"
      ],
      "metadata": {
        "id": "uUThjA3j3D-f"
      },
      "execution_count": null,
      "outputs": []
    },
    {
      "cell_type": "code",
      "source": [
        "from google.colab import files\n",
        "files.upload()"
      ],
      "metadata": {
        "id": "nDGBLsyXA2ht"
      },
      "execution_count": null,
      "outputs": []
    },
    {
      "cell_type": "code",
      "source": [
        "! mkdir ~/.kaggle\n",
        "! cp kaggle.json ~/.kaggle/\n",
        "! chmod 600 ~/.kaggle/kaggle.json\n",
        "! kaggle datasets list"
      ],
      "metadata": {
        "id": "prgijlfbBFPt"
      },
      "execution_count": null,
      "outputs": []
    },
    {
      "cell_type": "code",
      "source": [
        "!kaggle datasets download antonkozyriev/game-recommendations-on-steam\n",
        "!mkdir games\n",
        "!unzip game-recommendations-on-steam.zip -d games_dataset"
      ],
      "metadata": {
        "id": "MHAWYFUpENWO"
      },
      "execution_count": null,
      "outputs": []
    },
    {
      "cell_type": "code",
      "source": [
        "from sklearn.datasets import fetch_openml\n",
        "df = fetch_openml(data_id=43689)\n",
        "df.data"
      ],
      "metadata": {
        "id": "C5dIdYbELonf"
      },
      "execution_count": null,
      "outputs": []
    },
    {
      "cell_type": "code",
      "source": [
        "import os.path\n",
        "from urllib.request import urlretrieve\n",
        "file = \"nome.csv\"\n",
        "url = \"url\"\n",
        "if not os.path.exists(file):\n",
        "    urlretrieve(url, file)\n",
        "data = pd.read_csv(file, index_col=0)\n",
        "data.info()"
      ],
      "metadata": {
        "id": "vMjIjMab-mk-"
      },
      "execution_count": null,
      "outputs": []
    }
  ],
  "metadata": {
    "kernelspec": {
      "display_name": "base",
      "language": "python",
      "name": "python3"
    },
    "language_info": {
      "codemirror_mode": {
        "name": "ipython",
        "version": 3
      },
      "file_extension": ".py",
      "mimetype": "text/x-python",
      "name": "python",
      "nbconvert_exporter": "python",
      "pygments_lexer": "ipython3",
      "version": "3.13.5"
    },
    "colab": {
      "provenance": []
    }
  },
  "nbformat": 4,
  "nbformat_minor": 0
}